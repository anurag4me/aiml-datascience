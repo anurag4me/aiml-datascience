{
 "cells": [
  {
   "cell_type": "markdown",
   "id": "060a847f-9f95-47c0-a6e3-18626bda9136",
   "metadata": {},
   "source": [
    "# It is a regression problem "
   ]
  },
  {
   "cell_type": "markdown",
   "id": "707f8b1a-3c9b-4ddd-a876-1316943d61b5",
   "metadata": {},
   "source": [
    "## We are doing the machine learning on house price data set "
   ]
  },
  {
   "cell_type": "markdown",
   "id": "fe1cf7ac-df3b-49bc-bf10-6a89408f1cb7",
   "metadata": {},
   "source": [
    "<table align=\"center\" width=100%>\n",
    "    <tr>\n",
    "        </td>\n",
    "            </td>\n",
    "        </td>\n",
    "        <td>\n",
    "            <div align=\"center\">\n",
    "                <font color=\"#21618C\" size=8px>\n",
    "                    <b> Regression modeling on House price data\n",
    "                    </b>\n",
    "                </font>\n",
    "            </div>\n",
    "        </td>\n",
    "    </tr>\n",
    "</table>"
   ]
  },
  {
   "cell_type": "markdown",
   "id": "274e3a7a-8f23-45a9-ab2c-5d10831b0f94",
   "metadata": {},
   "source": [
    "# Problem Statement\n",
    "\n",
    "This dataset is created for the prediction of House Prices from an Indian perspective Towns. The dataset contains various features that are important during the application for the selling the Houses. The predicted output obtained from the classification algorithm gives a fair idea about the chances of a Houses Sold."
   ]
  },
  {
   "cell_type": "code",
   "execution_count": 1,
   "id": "99e76992-0c88-46da-a50a-14f8237bb7e8",
   "metadata": {
    "scrolled": true
   },
   "outputs": [],
   "source": [
    "# pandas is utilized to format the data sturctures it means it can convert any data sturcture into pandas dataframe\n",
    "# import 'Pandas'\n",
    "import pandas as pd\n",
    "\n",
    "# to find stastical summaries we use numpy\n",
    "# import 'Numpy'\n",
    "import numpy as np\n",
    "\n",
    "# import subpackage of Matplotlib\n",
    "import matplotlib.pyplot as plt"
   ]
  },
  {
   "cell_type": "markdown",
   "id": "07d72896-ea3c-41bf-8633-d5ba51407ea2",
   "metadata": {},
   "source": [
    "### Load the Dataset "
   ]
  },
  {
   "cell_type": "code",
   "execution_count": 2,
   "id": "af4661d1-85b1-41b1-aa46-a18e8bc1faf7",
   "metadata": {},
   "outputs": [],
   "source": [
    "# Load the date and name it df_house_price\n",
    "df_houseprice = pd.read_csv('House_Price.csv')"
   ]
  },
  {
   "cell_type": "markdown",
   "id": "a9ce0ac1-a32a-4a9c-8054-1d6606d50b22",
   "metadata": {},
   "source": [
    "## Data Overview"
   ]
  },
  {
   "cell_type": "code",
   "execution_count": 3,
   "id": "33c4f203-733b-47ff-8a9a-8ff237fea913",
   "metadata": {},
   "outputs": [
    {
     "data": {
      "text/plain": [
       "Index(['price', 'resid_area', 'air_qual', 'room_num', 'age', 'distance',\n",
       "       'teachers', 'poor_prop', 'airport', 'n_hos_beds', 'n_hot_rooms',\n",
       "       'waterbody', 'rainfall', 'bus_ter', 'parks', 'Sold'],\n",
       "      dtype='object')"
      ]
     },
     "execution_count": 3,
     "metadata": {},
     "output_type": "execute_result"
    }
   ],
   "source": [
    "# name the columns\n",
    "df_houseprice.columns"
   ]
  },
  {
   "cell_type": "markdown",
   "id": "a2cee6f4-1151-4088-949e-a93d3e02d9b5",
   "metadata": {},
   "source": [
    "**Interpretation**\n",
    "\n",
    " - `price`: price of the house.\n",
    " - `resid_area`: Residential area where my house is located\n",
    " - `air_qual`: Air Quality"
   ]
  },
  {
   "cell_type": "code",
   "execution_count": 4,
   "id": "2e52748d-786e-4043-ae29-34922b974fda",
   "metadata": {},
   "outputs": [
    {
     "name": "stdout",
     "output_type": "stream",
     "text": [
      "<class 'pandas.core.frame.DataFrame'>\n",
      "RangeIndex: 506 entries, 0 to 505\n",
      "Data columns (total 16 columns):\n",
      " #   Column       Non-Null Count  Dtype  \n",
      "---  ------       --------------  -----  \n",
      " 0   price        506 non-null    float64\n",
      " 1   resid_area   506 non-null    float64\n",
      " 2   air_qual     506 non-null    float64\n",
      " 3   room_num     506 non-null    float64\n",
      " 4   age          506 non-null    float64\n",
      " 5   distance     506 non-null    float64\n",
      " 6   teachers     506 non-null    float64\n",
      " 7   poor_prop    506 non-null    float64\n",
      " 8   airport      506 non-null    object \n",
      " 9   n_hos_beds   498 non-null    float64\n",
      " 10  n_hot_rooms  506 non-null    float64\n",
      " 11  waterbody    351 non-null    object \n",
      " 12  rainfall     506 non-null    int64  \n",
      " 13  bus_ter      506 non-null    object \n",
      " 14  parks        506 non-null    float64\n",
      " 15  Sold         506 non-null    int64  \n",
      "dtypes: float64(11), int64(2), object(3)\n",
      "memory usage: 63.4+ KB\n"
     ]
    }
   ],
   "source": [
    "# Basic info 0f the dateset\n",
    "df_houseprice.info()"
   ]
  },
  {
   "cell_type": "markdown",
   "id": "54dbca55-d290-4e42-8525-c8529446da31",
   "metadata": {},
   "source": [
    "**Intrepretation**\n",
    "\n",
    " - We have 13 numerical columns & 3 categorical column\n",
    " - We have NULL value in the date\n",
    " - We have total  18 columns in the data"
   ]
  },
  {
   "cell_type": "code",
   "execution_count": 5,
   "id": "16adb217-eb62-4673-a810-4c4f7aa05860",
   "metadata": {},
   "outputs": [
    {
     "data": {
      "text/plain": [
       "(506, 16)"
      ]
     },
     "execution_count": 5,
     "metadata": {},
     "output_type": "execute_result"
    }
   ],
   "source": [
    "# Shape of the data\n",
    "df_houseprice.shape"
   ]
  },
  {
   "cell_type": "markdown",
   "id": "95877264-5fe3-467b-bebc-66090429f6f0",
   "metadata": {},
   "source": [
    "**Intrepretation**\n",
    "\n",
    " - We have total 16 columns\n",
    " - We have 506 observations"
   ]
  },
  {
   "cell_type": "code",
   "execution_count": 6,
   "id": "1c6559f7-d719-4ac3-bee0-f4c31f2b907d",
   "metadata": {},
   "outputs": [
    {
     "data": {
      "text/html": [
       "<div>\n",
       "<style scoped>\n",
       "    .dataframe tbody tr th:only-of-type {\n",
       "        vertical-align: middle;\n",
       "    }\n",
       "\n",
       "    .dataframe tbody tr th {\n",
       "        vertical-align: top;\n",
       "    }\n",
       "\n",
       "    .dataframe thead th {\n",
       "        text-align: right;\n",
       "    }\n",
       "</style>\n",
       "<table border=\"1\" class=\"dataframe\">\n",
       "  <thead>\n",
       "    <tr style=\"text-align: right;\">\n",
       "      <th></th>\n",
       "      <th>price</th>\n",
       "      <th>resid_area</th>\n",
       "      <th>air_qual</th>\n",
       "      <th>room_num</th>\n",
       "      <th>age</th>\n",
       "      <th>distance</th>\n",
       "      <th>teachers</th>\n",
       "      <th>poor_prop</th>\n",
       "      <th>n_hos_beds</th>\n",
       "      <th>n_hot_rooms</th>\n",
       "      <th>rainfall</th>\n",
       "      <th>parks</th>\n",
       "      <th>Sold</th>\n",
       "    </tr>\n",
       "  </thead>\n",
       "  <tbody>\n",
       "    <tr>\n",
       "      <th>count</th>\n",
       "      <td>506.000000</td>\n",
       "      <td>506.000000</td>\n",
       "      <td>506.000000</td>\n",
       "      <td>506.000000</td>\n",
       "      <td>506.000000</td>\n",
       "      <td>506.000000</td>\n",
       "      <td>506.000000</td>\n",
       "      <td>506.000000</td>\n",
       "      <td>498.000000</td>\n",
       "      <td>506.000000</td>\n",
       "      <td>506.000000</td>\n",
       "      <td>506.000000</td>\n",
       "      <td>506.000000</td>\n",
       "    </tr>\n",
       "    <tr>\n",
       "      <th>mean</th>\n",
       "      <td>22.528854</td>\n",
       "      <td>41.136779</td>\n",
       "      <td>0.554695</td>\n",
       "      <td>6.284634</td>\n",
       "      <td>68.574901</td>\n",
       "      <td>3.971996</td>\n",
       "      <td>21.544466</td>\n",
       "      <td>12.653063</td>\n",
       "      <td>7.899767</td>\n",
       "      <td>13.041605</td>\n",
       "      <td>39.181818</td>\n",
       "      <td>0.054454</td>\n",
       "      <td>0.454545</td>\n",
       "    </tr>\n",
       "    <tr>\n",
       "      <th>std</th>\n",
       "      <td>9.182176</td>\n",
       "      <td>6.860353</td>\n",
       "      <td>0.115878</td>\n",
       "      <td>0.702617</td>\n",
       "      <td>28.148861</td>\n",
       "      <td>2.108532</td>\n",
       "      <td>2.164946</td>\n",
       "      <td>7.141062</td>\n",
       "      <td>1.476683</td>\n",
       "      <td>5.238957</td>\n",
       "      <td>12.513697</td>\n",
       "      <td>0.010632</td>\n",
       "      <td>0.498422</td>\n",
       "    </tr>\n",
       "    <tr>\n",
       "      <th>min</th>\n",
       "      <td>5.000000</td>\n",
       "      <td>30.460000</td>\n",
       "      <td>0.385000</td>\n",
       "      <td>3.561000</td>\n",
       "      <td>2.900000</td>\n",
       "      <td>1.130000</td>\n",
       "      <td>18.000000</td>\n",
       "      <td>1.730000</td>\n",
       "      <td>5.268000</td>\n",
       "      <td>10.057600</td>\n",
       "      <td>3.000000</td>\n",
       "      <td>0.033292</td>\n",
       "      <td>0.000000</td>\n",
       "    </tr>\n",
       "    <tr>\n",
       "      <th>25%</th>\n",
       "      <td>17.025000</td>\n",
       "      <td>35.190000</td>\n",
       "      <td>0.449000</td>\n",
       "      <td>5.885500</td>\n",
       "      <td>45.025000</td>\n",
       "      <td>2.270000</td>\n",
       "      <td>19.800000</td>\n",
       "      <td>6.950000</td>\n",
       "      <td>6.634500</td>\n",
       "      <td>11.189800</td>\n",
       "      <td>28.000000</td>\n",
       "      <td>0.046464</td>\n",
       "      <td>0.000000</td>\n",
       "    </tr>\n",
       "    <tr>\n",
       "      <th>50%</th>\n",
       "      <td>21.200000</td>\n",
       "      <td>39.690000</td>\n",
       "      <td>0.538000</td>\n",
       "      <td>6.208500</td>\n",
       "      <td>77.500000</td>\n",
       "      <td>3.385000</td>\n",
       "      <td>20.950000</td>\n",
       "      <td>11.360000</td>\n",
       "      <td>7.999000</td>\n",
       "      <td>12.720000</td>\n",
       "      <td>39.000000</td>\n",
       "      <td>0.053507</td>\n",
       "      <td>0.000000</td>\n",
       "    </tr>\n",
       "    <tr>\n",
       "      <th>75%</th>\n",
       "      <td>25.000000</td>\n",
       "      <td>48.100000</td>\n",
       "      <td>0.624000</td>\n",
       "      <td>6.623500</td>\n",
       "      <td>94.075000</td>\n",
       "      <td>5.367500</td>\n",
       "      <td>22.600000</td>\n",
       "      <td>16.955000</td>\n",
       "      <td>9.088000</td>\n",
       "      <td>14.170800</td>\n",
       "      <td>50.000000</td>\n",
       "      <td>0.061397</td>\n",
       "      <td>1.000000</td>\n",
       "    </tr>\n",
       "    <tr>\n",
       "      <th>max</th>\n",
       "      <td>50.000000</td>\n",
       "      <td>57.740000</td>\n",
       "      <td>0.871000</td>\n",
       "      <td>8.780000</td>\n",
       "      <td>100.000000</td>\n",
       "      <td>12.320000</td>\n",
       "      <td>27.400000</td>\n",
       "      <td>37.970000</td>\n",
       "      <td>10.876000</td>\n",
       "      <td>101.120000</td>\n",
       "      <td>60.000000</td>\n",
       "      <td>0.086711</td>\n",
       "      <td>1.000000</td>\n",
       "    </tr>\n",
       "  </tbody>\n",
       "</table>\n",
       "</div>"
      ],
      "text/plain": [
       "            price  resid_area    air_qual    room_num         age    distance  \\\n",
       "count  506.000000  506.000000  506.000000  506.000000  506.000000  506.000000   \n",
       "mean    22.528854   41.136779    0.554695    6.284634   68.574901    3.971996   \n",
       "std      9.182176    6.860353    0.115878    0.702617   28.148861    2.108532   \n",
       "min      5.000000   30.460000    0.385000    3.561000    2.900000    1.130000   \n",
       "25%     17.025000   35.190000    0.449000    5.885500   45.025000    2.270000   \n",
       "50%     21.200000   39.690000    0.538000    6.208500   77.500000    3.385000   \n",
       "75%     25.000000   48.100000    0.624000    6.623500   94.075000    5.367500   \n",
       "max     50.000000   57.740000    0.871000    8.780000  100.000000   12.320000   \n",
       "\n",
       "         teachers   poor_prop  n_hos_beds  n_hot_rooms    rainfall  \\\n",
       "count  506.000000  506.000000  498.000000   506.000000  506.000000   \n",
       "mean    21.544466   12.653063    7.899767    13.041605   39.181818   \n",
       "std      2.164946    7.141062    1.476683     5.238957   12.513697   \n",
       "min     18.000000    1.730000    5.268000    10.057600    3.000000   \n",
       "25%     19.800000    6.950000    6.634500    11.189800   28.000000   \n",
       "50%     20.950000   11.360000    7.999000    12.720000   39.000000   \n",
       "75%     22.600000   16.955000    9.088000    14.170800   50.000000   \n",
       "max     27.400000   37.970000   10.876000   101.120000   60.000000   \n",
       "\n",
       "            parks        Sold  \n",
       "count  506.000000  506.000000  \n",
       "mean     0.054454    0.454545  \n",
       "std      0.010632    0.498422  \n",
       "min      0.033292    0.000000  \n",
       "25%      0.046464    0.000000  \n",
       "50%      0.053507    0.000000  \n",
       "75%      0.061397    1.000000  \n",
       "max      0.086711    1.000000  "
      ]
     },
     "execution_count": 6,
     "metadata": {},
     "output_type": "execute_result"
    }
   ],
   "source": [
    "# Summrise the basic statics of the data\n",
    "df_houseprice.describe()"
   ]
  },
  {
   "cell_type": "markdown",
   "id": "93032158-af56-4fab-85e6-b5f8a0acc041",
   "metadata": {},
   "source": [
    "**Intrepretation**\n",
    "\n",
    " - We have outliers in the data, most of the outliers are in age column"
   ]
  },
  {
   "cell_type": "markdown",
   "id": "857a5766-4cdb-46a2-8012-f36a85075ee4",
   "metadata": {},
   "source": [
    "# Data preprocessing"
   ]
  },
  {
   "cell_type": "markdown",
   "id": "bc51036c-88d4-4739-b846-f8b6d383ef67",
   "metadata": {},
   "source": [
    "## a. Data cleaning"
   ]
  },
  {
   "cell_type": "code",
   "execution_count": 7,
   "id": "b21e1287-4543-4597-8f11-c83ade260a9f",
   "metadata": {},
   "outputs": [
    {
     "data": {
      "text/html": [
       "<div>\n",
       "<style scoped>\n",
       "    .dataframe tbody tr th:only-of-type {\n",
       "        vertical-align: middle;\n",
       "    }\n",
       "\n",
       "    .dataframe tbody tr th {\n",
       "        vertical-align: top;\n",
       "    }\n",
       "\n",
       "    .dataframe thead th {\n",
       "        text-align: right;\n",
       "    }\n",
       "</style>\n",
       "<table border=\"1\" class=\"dataframe\">\n",
       "  <thead>\n",
       "    <tr style=\"text-align: right;\">\n",
       "      <th></th>\n",
       "      <th>price</th>\n",
       "      <th>resid_area</th>\n",
       "      <th>air_qual</th>\n",
       "      <th>room_num</th>\n",
       "      <th>age</th>\n",
       "      <th>distance</th>\n",
       "      <th>teachers</th>\n",
       "      <th>poor_prop</th>\n",
       "      <th>airport</th>\n",
       "      <th>n_hos_beds</th>\n",
       "      <th>n_hot_rooms</th>\n",
       "      <th>waterbody</th>\n",
       "      <th>rainfall</th>\n",
       "      <th>bus_ter</th>\n",
       "      <th>parks</th>\n",
       "      <th>Sold</th>\n",
       "    </tr>\n",
       "  </thead>\n",
       "  <tbody>\n",
       "    <tr>\n",
       "      <th>0</th>\n",
       "      <td>24.0</td>\n",
       "      <td>32.31</td>\n",
       "      <td>0.538</td>\n",
       "      <td>6.575</td>\n",
       "      <td>65.2</td>\n",
       "      <td>4.35</td>\n",
       "      <td>24.7</td>\n",
       "      <td>4.98</td>\n",
       "      <td>YES</td>\n",
       "      <td>5.480</td>\n",
       "      <td>11.1920</td>\n",
       "      <td>River</td>\n",
       "      <td>23</td>\n",
       "      <td>YES</td>\n",
       "      <td>0.049347</td>\n",
       "      <td>0</td>\n",
       "    </tr>\n",
       "    <tr>\n",
       "      <th>1</th>\n",
       "      <td>21.6</td>\n",
       "      <td>37.07</td>\n",
       "      <td>0.469</td>\n",
       "      <td>6.421</td>\n",
       "      <td>78.9</td>\n",
       "      <td>4.99</td>\n",
       "      <td>22.2</td>\n",
       "      <td>9.14</td>\n",
       "      <td>NO</td>\n",
       "      <td>7.332</td>\n",
       "      <td>12.1728</td>\n",
       "      <td>Lake</td>\n",
       "      <td>42</td>\n",
       "      <td>YES</td>\n",
       "      <td>0.046146</td>\n",
       "      <td>1</td>\n",
       "    </tr>\n",
       "    <tr>\n",
       "      <th>2</th>\n",
       "      <td>34.7</td>\n",
       "      <td>37.07</td>\n",
       "      <td>0.469</td>\n",
       "      <td>7.185</td>\n",
       "      <td>61.1</td>\n",
       "      <td>5.03</td>\n",
       "      <td>22.2</td>\n",
       "      <td>4.03</td>\n",
       "      <td>NO</td>\n",
       "      <td>7.394</td>\n",
       "      <td>101.1200</td>\n",
       "      <td>NaN</td>\n",
       "      <td>38</td>\n",
       "      <td>YES</td>\n",
       "      <td>0.045764</td>\n",
       "      <td>0</td>\n",
       "    </tr>\n",
       "    <tr>\n",
       "      <th>3</th>\n",
       "      <td>33.4</td>\n",
       "      <td>32.18</td>\n",
       "      <td>0.458</td>\n",
       "      <td>6.998</td>\n",
       "      <td>45.8</td>\n",
       "      <td>6.21</td>\n",
       "      <td>21.3</td>\n",
       "      <td>2.94</td>\n",
       "      <td>YES</td>\n",
       "      <td>9.268</td>\n",
       "      <td>11.2672</td>\n",
       "      <td>Lake</td>\n",
       "      <td>45</td>\n",
       "      <td>YES</td>\n",
       "      <td>0.047151</td>\n",
       "      <td>0</td>\n",
       "    </tr>\n",
       "    <tr>\n",
       "      <th>4</th>\n",
       "      <td>36.2</td>\n",
       "      <td>32.18</td>\n",
       "      <td>0.458</td>\n",
       "      <td>7.147</td>\n",
       "      <td>54.2</td>\n",
       "      <td>6.16</td>\n",
       "      <td>21.3</td>\n",
       "      <td>5.33</td>\n",
       "      <td>NO</td>\n",
       "      <td>8.824</td>\n",
       "      <td>11.2896</td>\n",
       "      <td>Lake</td>\n",
       "      <td>55</td>\n",
       "      <td>YES</td>\n",
       "      <td>0.039474</td>\n",
       "      <td>0</td>\n",
       "    </tr>\n",
       "  </tbody>\n",
       "</table>\n",
       "</div>"
      ],
      "text/plain": [
       "   price  resid_area  air_qual  room_num   age  distance  teachers  poor_prop  \\\n",
       "0   24.0       32.31     0.538     6.575  65.2      4.35      24.7       4.98   \n",
       "1   21.6       37.07     0.469     6.421  78.9      4.99      22.2       9.14   \n",
       "2   34.7       37.07     0.469     7.185  61.1      5.03      22.2       4.03   \n",
       "3   33.4       32.18     0.458     6.998  45.8      6.21      21.3       2.94   \n",
       "4   36.2       32.18     0.458     7.147  54.2      6.16      21.3       5.33   \n",
       "\n",
       "  airport  n_hos_beds  n_hot_rooms waterbody  rainfall bus_ter     parks  Sold  \n",
       "0     YES       5.480      11.1920     River        23     YES  0.049347     0  \n",
       "1      NO       7.332      12.1728      Lake        42     YES  0.046146     1  \n",
       "2      NO       7.394     101.1200       NaN        38     YES  0.045764     0  \n",
       "3     YES       9.268      11.2672      Lake        45     YES  0.047151     0  \n",
       "4      NO       8.824      11.2896      Lake        55     YES  0.039474     0  "
      ]
     },
     "execution_count": 7,
     "metadata": {},
     "output_type": "execute_result"
    }
   ],
   "source": [
    "# show the first five observations\n",
    "df_houseprice.head()"
   ]
  },
  {
   "cell_type": "code",
   "execution_count": 8,
   "id": "8bdff9ed-c9e7-413b-ab08-f306a307aeeb",
   "metadata": {},
   "outputs": [
    {
     "data": {
      "text/plain": [
       "Index(['price', 'resid_area', 'air_qual', 'room_num', 'age', 'distance',\n",
       "       'teachers', 'poor_prop', 'airport', 'n_hos_beds', 'n_hot_rooms',\n",
       "       'waterbody', 'rainfall', 'bus_ter', 'parks', 'Sold'],\n",
       "      dtype='object')"
      ]
     },
     "execution_count": 8,
     "metadata": {},
     "output_type": "execute_result"
    }
   ],
   "source": [
    "# Rename the columns \n",
    "# step1: show the columns Names\n",
    "df_houseprice.columns\n"
   ]
  },
  {
   "cell_type": "code",
   "execution_count": 9,
   "id": "87d7981a-85db-49b8-9c3b-19c51884b08b",
   "metadata": {},
   "outputs": [],
   "source": [
    "# step2: Allocate New column names to Old column names\n",
    "# Make the Dictionary('Old column anme':'New column name')\n",
    "d1={\n",
    "    'price':'Price',\n",
    "    'resid_area':'Residential_Area',\n",
    "    'air_qual':'Air_Quality',\n",
    "    'room_num':'Room_Numbers', \n",
    "    'age':'Age', \n",
    "    'distance':'Distance',\n",
    "    'teachers':'Teachers', \n",
    "    'poor_prop':'Proportion_Of_Population', \n",
    "    'airport':'Airport', \n",
    "    'n_hos_beds':'Number_Of_Hospital_Beds', \n",
    "    'n_hot_rooms':'Number_Of_Hotel_Rooms', \n",
    "    'waterbody':'Waterbody', \n",
    "    'rainfall':'Rainfall', \n",
    "    'bus_ter':'Bus_Terminal', \n",
    "    'parks':'Parks', \n",
    "    'Sold':'Sold',\n",
    "   }"
   ]
  },
  {
   "cell_type": "code",
   "execution_count": 10,
   "id": "1862cee7-4d45-4fa2-9850-975329a83d58",
   "metadata": {},
   "outputs": [],
   "source": [
    "df_houseprice_1 = df_houseprice.rename(columns=d1)"
   ]
  },
  {
   "cell_type": "markdown",
   "id": "5f65df08-74e2-45f0-9353-1e6e24c600c7",
   "metadata": {},
   "source": [
    "### b. Null Value Handelling"
   ]
  },
  {
   "cell_type": "raw",
   "id": "2aa1ce4a-c0b4-485b-8eae-9795cfe4e752",
   "metadata": {},
   "source": [
    "Laws that we need to follow while processing the null value (specially for manufacturing)\n",
    " - When we have less than 15% data is missing -> Remove the observation\n",
    " - Between 20-70% data is missing -> Impute the null values\n",
    " - Greater than 75% data is missing -> Remove the column"
   ]
  },
  {
   "cell_type": "code",
   "execution_count": 11,
   "id": "803603e4-6b4d-4348-baf4-08c08614904b",
   "metadata": {},
   "outputs": [
    {
     "data": {
      "text/plain": [
       "Price                         0\n",
       "Residential_Area              0\n",
       "Air_Quality                   0\n",
       "Room_Numbers                  0\n",
       "Age                           0\n",
       "Distance                      0\n",
       "Teachers                      0\n",
       "Proportion_Of_Population      0\n",
       "Airport                       0\n",
       "Number_Of_Hospital_Beds       8\n",
       "Number_Of_Hotel_Rooms         0\n",
       "Waterbody                   155\n",
       "Rainfall                      0\n",
       "Bus_Terminal                  0\n",
       "Parks                         0\n",
       "Sold                          0\n",
       "dtype: int64"
      ]
     },
     "execution_count": 11,
     "metadata": {},
     "output_type": "execute_result"
    }
   ],
   "source": [
    "# find the valid null values\n",
    "df_houseprice_1.isnull().sum()"
   ]
  },
  {
   "cell_type": "code",
   "execution_count": 12,
   "id": "9328c907-146c-4e81-9fc5-611a384657ed",
   "metadata": {},
   "outputs": [
    {
     "data": {
      "text/plain": [
       "Price                        0.000000\n",
       "Residential_Area             0.000000\n",
       "Air_Quality                  0.000000\n",
       "Room_Numbers                 0.000000\n",
       "Age                          0.000000\n",
       "Distance                     0.000000\n",
       "Teachers                     0.000000\n",
       "Proportion_Of_Population     0.000000\n",
       "Airport                      0.000000\n",
       "Number_Of_Hospital_Beds      1.581028\n",
       "Number_Of_Hotel_Rooms        0.000000\n",
       "Waterbody                   30.632411\n",
       "Rainfall                     0.000000\n",
       "Bus_Terminal                 0.000000\n",
       "Parks                        0.000000\n",
       "Sold                         0.000000\n",
       "dtype: float64"
      ]
     },
     "execution_count": 12,
     "metadata": {},
     "output_type": "execute_result"
    }
   ],
   "source": [
    "# %missing values\n",
    "round(df_houseprice_1.isnull().sum())/len(df_houseprice_1)*100"
   ]
  },
  {
   "cell_type": "code",
   "execution_count": 13,
   "id": "b809bd1c-796f-4afa-9271-0cb2047536b6",
   "metadata": {},
   "outputs": [
    {
     "name": "stdout",
     "output_type": "stream",
     "text": [
      "<class 'pandas.core.frame.DataFrame'>\n",
      "RangeIndex: 506 entries, 0 to 505\n",
      "Data columns (total 16 columns):\n",
      " #   Column                    Non-Null Count  Dtype  \n",
      "---  ------                    --------------  -----  \n",
      " 0   Price                     506 non-null    float64\n",
      " 1   Residential_Area          506 non-null    float64\n",
      " 2   Air_Quality               506 non-null    float64\n",
      " 3   Room_Numbers              506 non-null    float64\n",
      " 4   Age                       506 non-null    float64\n",
      " 5   Distance                  506 non-null    float64\n",
      " 6   Teachers                  506 non-null    float64\n",
      " 7   Proportion_Of_Population  506 non-null    float64\n",
      " 8   Airport                   506 non-null    object \n",
      " 9   Number_Of_Hospital_Beds   498 non-null    float64\n",
      " 10  Number_Of_Hotel_Rooms     506 non-null    float64\n",
      " 11  Waterbody                 351 non-null    object \n",
      " 12  Rainfall                  506 non-null    int64  \n",
      " 13  Bus_Terminal              506 non-null    object \n",
      " 14  Parks                     506 non-null    float64\n",
      " 15  Sold                      506 non-null    int64  \n",
      "dtypes: float64(11), int64(2), object(3)\n",
      "memory usage: 63.4+ KB\n"
     ]
    }
   ],
   "source": [
    "df_houseprice_1.info()"
   ]
  },
  {
   "cell_type": "code",
   "execution_count": 14,
   "id": "303b5acb-8e55-4a80-80a7-a0866d86d2be",
   "metadata": {},
   "outputs": [],
   "source": [
    "# This is a categorical column so we can replace the null with mod"
   ]
  },
  {
   "cell_type": "code",
   "execution_count": 15,
   "id": "659bfb5d-73c3-4564-a41d-e5b44bd6c1df",
   "metadata": {},
   "outputs": [
    {
     "data": {
      "text/plain": [
       "0    River\n",
       "Name: Waterbody, dtype: object"
      ]
     },
     "execution_count": 15,
     "metadata": {},
     "output_type": "execute_result"
    }
   ],
   "source": [
    "df_houseprice_1.Waterbody.mode()"
   ]
  },
  {
   "cell_type": "code",
   "execution_count": 16,
   "id": "4f6c2325-fe76-4f1d-ae3f-6afec978b1b7",
   "metadata": {},
   "outputs": [
    {
     "name": "stderr",
     "output_type": "stream",
     "text": [
      "C:\\Users\\anura\\AppData\\Local\\Temp\\ipykernel_19404\\299150474.py:2: FutureWarning: A value is trying to be set on a copy of a DataFrame or Series through chained assignment using an inplace method.\n",
      "The behavior will change in pandas 3.0. This inplace method will never work because the intermediate object on which we are setting values always behaves as a copy.\n",
      "\n",
      "For example, when doing 'df[col].method(value, inplace=True)', try using 'df.method({col: value}, inplace=True)' or df[col] = df[col].method(value) instead, to perform the operation inplace on the original object.\n",
      "\n",
      "\n",
      "  df_houseprice_1.Waterbody.fillna('River', inplace=True)\n"
     ]
    }
   ],
   "source": [
    "# Repalce the null is that column\n",
    "df_houseprice_1.Waterbody.fillna('River', inplace=True)"
   ]
  },
  {
   "cell_type": "code",
   "execution_count": 17,
   "id": "e8f39f2a-5012-4a59-ab90-68aaa31b0a32",
   "metadata": {},
   "outputs": [
    {
     "data": {
      "text/plain": [
       "Price                       0.000000\n",
       "Residential_Area            0.000000\n",
       "Air_Quality                 0.000000\n",
       "Room_Numbers                0.000000\n",
       "Age                         0.000000\n",
       "Distance                    0.000000\n",
       "Teachers                    0.000000\n",
       "Proportion_Of_Population    0.000000\n",
       "Airport                     0.000000\n",
       "Number_Of_Hospital_Beds     1.581028\n",
       "Number_Of_Hotel_Rooms       0.000000\n",
       "Waterbody                   0.000000\n",
       "Rainfall                    0.000000\n",
       "Bus_Terminal                0.000000\n",
       "Parks                       0.000000\n",
       "Sold                        0.000000\n",
       "dtype: float64"
      ]
     },
     "execution_count": 17,
     "metadata": {},
     "output_type": "execute_result"
    }
   ],
   "source": [
    "# %missing values\n",
    "round(df_houseprice_1.isnull().sum())/len(df_houseprice_1)*100"
   ]
  },
  {
   "cell_type": "code",
   "execution_count": 18,
   "id": "0aa9988a-3ce2-4f43-b56b-98040729bf23",
   "metadata": {},
   "outputs": [],
   "source": [
    "# In Number_Of_Hospital_Beds contain less than 10% values so we can drop null values\n",
    "df_houseprice_1.dropna(inplace=True)"
   ]
  },
  {
   "cell_type": "code",
   "execution_count": 19,
   "id": "04625fb5-88bf-4fa5-a65c-debdfc4e5ada",
   "metadata": {
    "scrolled": true
   },
   "outputs": [
    {
     "data": {
      "text/plain": [
       "Price                       0.0\n",
       "Residential_Area            0.0\n",
       "Air_Quality                 0.0\n",
       "Room_Numbers                0.0\n",
       "Age                         0.0\n",
       "Distance                    0.0\n",
       "Teachers                    0.0\n",
       "Proportion_Of_Population    0.0\n",
       "Airport                     0.0\n",
       "Number_Of_Hospital_Beds     0.0\n",
       "Number_Of_Hotel_Rooms       0.0\n",
       "Waterbody                   0.0\n",
       "Rainfall                    0.0\n",
       "Bus_Terminal                0.0\n",
       "Parks                       0.0\n",
       "Sold                        0.0\n",
       "dtype: float64"
      ]
     },
     "execution_count": 19,
     "metadata": {},
     "output_type": "execute_result"
    }
   ],
   "source": [
    "null_percentage = (df_houseprice_1.isnull().sum() / len(df_houseprice_1)) * 100\n",
    "null_percentage"
   ]
  },
  {
   "cell_type": "markdown",
   "id": "f6c67b04-0429-406a-9e95-5d83ceeed3ed",
   "metadata": {},
   "source": [
    "## Preapare data for machine learning"
   ]
  },
  {
   "cell_type": "code",
   "execution_count": 20,
   "id": "66f47cf0-b53d-47f4-9da2-ed89b0a7dab5",
   "metadata": {},
   "outputs": [],
   "source": [
    "# Seperate the terget variable and independent variable\n",
    "target = df_houseprice_1['Sold']"
   ]
  },
  {
   "cell_type": "code",
   "execution_count": 21,
   "id": "e8706ddd-c21a-4cf3-8c16-b8412b905082",
   "metadata": {},
   "outputs": [],
   "source": [
    "# Independant variable\n",
    "df_Independent = df_houseprice_1.drop('Sold', axis = 1)"
   ]
  },
  {
   "cell_type": "code",
   "execution_count": null,
   "id": "95715edc-b6fe-4b1b-b366-4957c73e40af",
   "metadata": {},
   "outputs": [],
   "source": []
  }
 ],
 "metadata": {
  "kernelspec": {
   "display_name": "Python 3 (ipykernel)",
   "language": "python",
   "name": "python3"
  },
  "language_info": {
   "codemirror_mode": {
    "name": "ipython",
    "version": 3
   },
   "file_extension": ".py",
   "mimetype": "text/x-python",
   "name": "python",
   "nbconvert_exporter": "python",
   "pygments_lexer": "ipython3",
   "version": "3.12.0"
  }
 },
 "nbformat": 4,
 "nbformat_minor": 5
}
